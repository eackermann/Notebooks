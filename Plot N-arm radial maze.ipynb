{
 "metadata": {
  "kernelspec": {
   "display_name": "Python 3",
   "language": "python",
   "name": "python3"
  },
  "language_info": {
   "codemirror_mode": {
    "name": "ipython",
    "version": 3
   },
   "file_extension": ".py",
   "mimetype": "text/x-python",
   "name": "python",
   "nbconvert_exporter": "python",
   "pygments_lexer": "ipython3",
   "version": "3.4.1"
  },
  "name": "",
  "signature": "sha256:7a4a7b1a7e591b87950b5d70d6852e3e4695168f507a53ef06a414987dd2ac44"
 },
 "nbformat": 3,
 "nbformat_minor": 0,
 "worksheets": [
  {
   "cells": [
    {
     "cell_type": "markdown",
     "metadata": {},
     "source": [
      "# Plot _N_-arm radial maze\n",
      "---\n",
      "_Etienne Ackermann, 07/05/2015_\n",
      "\n",
      "### Overview\n",
      "Demonstrates how to draw a filled (hatched) polygon, as well as how to use the interactive widgets in Jupyter.\n",
      "\n",
      "### TODO\n",
      "1. add scale bar to plot\n",
      "1. add units to interactive widget\n",
      "1. add filled option with opacity\n",
      "1. add XKCDify\n",
      "1. add export graphics to .svg or .pdf\n",
      "1. add reward arm indicators and rest of workflow: adding place fields, trajectories, spikes, etc."
     ]
    },
    {
     "cell_type": "code",
     "collapsed": true,
     "input": [
      "# specify the N-arm radial maze parameters:\n",
      "num_arms = 8;\n",
      "arm_length = 50;   # cm\n",
      "base_radius = 15;  # cm"
     ],
     "language": "python",
     "metadata": {},
     "outputs": [],
     "prompt_number": 1
    },
    {
     "cell_type": "code",
     "collapsed": false,
     "input": [
      "import matplotlib\n",
      "import matplotlib.pyplot as plt\n",
      "import numpy as np\n",
      "from matplotlib.patches import Polygon\n",
      "%matplotlib inline\n",
      "\n",
      "from IPython.html.widgets import interactive\n",
      "from IPython.display import display\n",
      "\n",
      "def draw_radial_maze(num_arms=8, base_radius=15.0, arm_length=50.0):\n",
      "    # determine track width:\n",
      "    tw = 2*np.pi*base_radius/num_arms  \n",
      "    \n",
      "    theta_array = np.linspace(0, 2*np.pi,num_arms+1)\n",
      "    \n",
      "    #thetavec = thetavec(1:end-1):\n",
      "    theta_array = np.delete(theta_array,-1)    \n",
      "    \n",
      "    rectangle_vertices = np.array([[base_radius*np.cos(theta_array[1]/2),tw/2], [arm_length+base_radius, tw/2],[arm_length+base_radius, -tw/2]])\n",
      "    maze_polygon = np.zeros((num_arms*3,2))  \n",
      "    \n",
      "    for arm in np.arange(num_arms):\n",
      "        theta = theta_array[arm]\n",
      "        rotation_matrix = np.array([[np.cos(theta), -np.sin(theta)],[np.sin(theta), np.cos(theta)]])\n",
      "        maze_polygon[(arm)*3:(arm+1)*3,:] = np.dot(rectangle_vertices,rotation_matrix)\n",
      "        \n",
      "    patterns = ('-', '+', 'x', '\\\\', '*', 'o', 'O', '.')\n",
      "    fig, ax = plt.subplots()\n",
      "    ax.add_patch(Polygon(maze_polygon, closed=True, fill=False, hatch='O'))\n",
      "    ax.set_xlim((np.floor(-1.1*(base_radius+arm_length)), np.ceil(1.1*(base_radius+arm_length))))\n",
      "    ax.set_ylim((-1.1*(base_radius+arm_length)), np.ceil(1.1*(base_radius+arm_length)))\n",
      "    ax.set_aspect('equal', adjustable='box')\n",
      "\n",
      "    # draw scale bar:\n",
      "        #line([(base_radius+arm_length)/2, (base_radius+arm_length)], [-0.9*(base_radius+arm_length), -0.9*(base_radius+arm_length)],'Color','k','LineWidth',2);\n",
      "        #line([(base_radius+arm_length)/2, (base_radius+arm_length)/2], [-0.9*(base_radius+arm_length)-0.05*(base_radius+arm_length), -0.9*(base_radius+arm_length)+0.05*(base_radius+arm_length)],'Color','k','LineWidth',2);\n",
      "        #line([(base_radius+arm_length), (base_radius+arm_length)], [-0.9*(base_radius+arm_length)-0.05*(base_radius+arm_length), -0.9*(base_radius+arm_length)+0.05*(base_radius+arm_length)],'Color','k','LineWidth',2);\n",
      "        #text((base_radius+arm_length)/2 + 0.05*(base_radius+arm_length), -0.9*(base_radius+arm_length)-0.08*(base_radius+arm_length), sprintf('%g cm',(base_radius+arm_length)/2));\n"
     ],
     "language": "python",
     "metadata": {},
     "outputs": [],
     "prompt_number": 2
    },
    {
     "cell_type": "code",
     "collapsed": false,
     "input": [
      "v = interactive(draw_radial_maze, num_arms=(2,30), base_radius=(1.0,30.0), arm_length=(1.0,150.0))\n",
      "display(v)"
     ],
     "language": "python",
     "metadata": {},
     "outputs": [
      {
       "metadata": {},
       "output_type": "display_data",
       "png": "[encoded data removed]",
       "text": [
        "<matplotlib.figure.Figure at 0x1072a6208>"
       ]
      }
     ],
     "prompt_number": 3
    },
    {
     "cell_type": "code",
     "collapsed": true,
     "input": [
      "from IPython.core.display import HTML\n",
      "def css_styling():\n",
      "    styles = open(\"../styles/custom.css\", \"r\").read()\n",
      "    return HTML(styles)\n",
      "css_styling()"
     ],
     "language": "python",
     "metadata": {},
     "outputs": [],
     "prompt_number": null
    }
   ],
   "metadata": {}
  }
 ]
}