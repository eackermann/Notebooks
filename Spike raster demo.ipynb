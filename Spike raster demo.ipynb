{
 "cells": [
  {
   "cell_type": "markdown",
   "metadata": {},
   "source": [
    "# Load and plot a spike raster from MATLAB data\n",
    "---\n",
    "_Etienne Ackermann, 07/02/2015_\n",
    "\n",
    "### Overview\n",
    "This is a demonstration of how to generate a spike raster plot either starting from Python itself, or from a MATLAB ```spikeshat``` object.\n",
    "\n",
    "The Python data format for a spikes object is a list of ```numpy.ndarrays``` (* **NOTE!** I might legitimately change this to a standardized format, such as [neo](https://pythonhosted.org/neo/) or something similar...*)  For example,\n",
    "\n",
    "```python\n",
    "spikes = [array([ 0.0,  2.1,  4.3]),\n",
    "         array([ 0.1,  4.5]),\n",
    "         array([ 1.0,  2.8, 10.7, 11.0])]\n",
    "```\n",
    "\n",
    "In MATLAB, I use a cell array, with each cell containing the spike times of the associated cell. For example,\n",
    "\n",
    "```matlab\n",
    "spikeshat is a <1xNCells> cell array ---> each element is <nSpikes(cell)x1 double>\n",
    "\n",
    ">> spikeshat\n",
    "\n",
    "spikeshat =\n",
    "\n",
    "Columns 1 through 3\n",
    "\n",
    "    [10x1 double]    [3x1 double]    [297x1 double]\n",
    "\n",
    ">> spikeshat{1} = [ 0.0;  2.1;  4.3]; ...\n",
    "   spikeshat{2} = [ 0.1;  4.5]; ...\n",
    "   spikeshat{3} = [ 1.0;  2.8; 10.7; 11.0];\n",
    "         \n",
    "```\n",
    "\n",
    "The MATLAB cell array can then be saved as follows:\n",
    "\n",
    "```matlab\n",
    "save -v7.3 'spikefile.mat' spikeshat\n",
    "```\n",
    "\n",
    "where it is important to include the ```-v7.3``` tag, and where we need to keep track of the variable name, ```spikeshat```.\n",
    "\n",
    "It is then a simple matter to load the ```.mat``` file into Python using the ***h5py*** module, as follows:\n",
    "\n",
    "```python\n",
    "import h5py\n",
    "with h5py.File(\"spikefile.mat\") as f:\n",
    "    spikes = [f[element[0]][:] for element in f['spikeshat']]\n",
    "```\n",
    "\n",
    "> (Basically, the ```<HDF5 object reference>``` needed to be used to index the h5py file object to get the underlying array that is being referenced. After we are referring to the array that is needed, it has to be loaded to memory by indexing it with ```[:]``` or any subset if only part of the array is required. See [this stackoverflow question](http://stackoverflow.com/questions/27670149/read-matlab-v7-3-file-into-python-list-of-numpy-arrays-via-h5py).)\n",
    "\n",
    "after which we can plot the spike raster using\n",
    "\n",
    "```python\n",
    "fig = plt.figure()\n",
    "ax = raster(spikes)\n",
    "plt.title('Example raster plot')\n",
    "plt.xlabel('time (ms)')\n",
    "plt.ylabel('cell')\n",
    "```\n",
    "\n",
    "and the ```raster``` function defined below."
   ]
  },
  {
   "cell_type": "markdown",
   "metadata": {},
   "source": [
    "#### Function definition for ```raster(spikes, color)```"
   ]
  },
  {
   "cell_type": "code",
   "execution_count": 1,
   "metadata": {
    "collapsed": true
   },
   "outputs": [],
   "source": [
    "import matplotlib.pyplot as plt\n",
    "import numpy as np\n",
    "\n",
    "%matplotlib inline\n",
    " \n",
    "def raster(ax, event_times_list, color='k'):\n",
    "    \"\"\"\n",
    "    Creates a raster plot of spike times\n",
    "\n",
    "    Parameters\n",
    "    ----------\n",
    "    ax : Axes\n",
    "        The axes to draw to\n",
    "    \t\n",
    "    event_times_list : iterable\n",
    "        A list of event time iterables\n",
    "        \n",
    "    color : string\n",
    "        Color of vlines\n",
    "\n",
    "    Returns\n",
    "    -------\n",
    "    out : list\n",
    "        list of artists added\n",
    "\n",
    "    Source\n",
    "    ------\n",
    "    modified from https://scimusing.wordpress.com/2013/05/06/making-raster-plots-in-python-with-matplotlib/\n",
    "    \"\"\"\n",
    "    for ith, trial in enumerate(event_times_list):\n",
    "        out = ax.vlines(trial, ith + .5, ith + 1.5, color=color)\n",
    "    ax.set_ylim(.5, len(event_times_list) + 0.5)\n",
    "    ax.set_xlabel('time')\n",
    "    ax.set_ylabel('cell')\n",
    "    return out"
   ]
  },
  {
   "cell_type": "markdown",
   "metadata": {},
   "source": [
    "#### Example using synthetic data generated within Python"
   ]
  },
  {
   "cell_type": "code",
   "execution_count": 2,
   "metadata": {
    "collapsed": false
   },
   "outputs": [
    {
     "data": {
      "text/plain": [
       "<matplotlib.text.Text at 0x989a20>"
      ]
     },
     "execution_count": 2,
     "metadata": {},
     "output_type": "execute_result"
    },
    {
     "data": {
      "image/png": "[encoded data removed]",
      "text/plain": [
       "<matplotlib.figure.Figure at 0x6872048>"
      ]
     },
     "metadata": {},
     "output_type": "display_data"
    }
   ],
   "source": [
    "# example usage\n",
    "# Generate test data\n",
    "nbins = 100\n",
    "ntrials = 10\n",
    "spikes = []\n",
    "for i in range(ntrials):\n",
    "    spikes.append(np.arange(nbins)[np.random.rand(nbins) < .2])\n",
    "\n",
    "# plot spike raster\n",
    "fig, (ax1, ax2) = plt.subplots(1, 2)\n",
    "raster(ax1, spikes)\n",
    "raster(ax2, spikes,'b')\n",
    "ax1.set_title('Example raster plot')\n",
    "ax1.set_xlabel('time (ms)')\n",
    "#fig.show()"
   ]
  },
  {
   "cell_type": "markdown",
   "metadata": {},
   "source": [
    "#### Example loading data from MATLAB\n",
    "(assumes data was saved as described above, namely the variable is called ```spikehat``` and was saved using the ```-v7.3``` tag to ```spikefile.mat```)"
   ]
  },
  {
   "cell_type": "code",
   "execution_count": 3,
   "metadata": {
    "collapsed": false
   },
   "outputs": [
    {
     "data": {
      "text/plain": [
       "<matplotlib.collections.LineCollection at 0x6f30978>"
      ]
     },
     "execution_count": 3,
     "metadata": {},
     "output_type": "execute_result"
    },
    {
     "data": {
      "image/png": "[encoded data removed]",
      "text/plain": [
       "<matplotlib.figure.Figure at 0x4a9c6d8>"
      ]
     },
     "metadata": {},
     "output_type": "display_data"
    }
   ],
   "source": [
    "import h5py\n",
    "\n",
    "# read data from .mat file\n",
    "with h5py.File(\"../Data/spikefile.mat\") as f:\n",
    "    spikes = [f[element[0]][:] for element in f['spikeshat']]\n",
    "\n",
    "# plot spike raster\n",
    "fig, ax = plt.subplots(1, 1)\n",
    "raster(ax, spikes)"
   ]
  },
  {
   "cell_type": "markdown",
   "metadata": {},
   "source": [
    "Alternatively, we can use the ```kemerelab``` package to plot the spike raster:"
   ]
  },
  {
   "cell_type": "code",
   "execution_count": 4,
   "metadata": {
    "collapsed": false
   },
   "outputs": [
    {
     "name": "stdout",
     "output_type": "stream",
     "text": [
      "kemerelab package loaded succesfully!\n"
     ]
    },
    {
     "data": {
      "text/plain": [
       "<matplotlib.collections.LineCollection at 0x70ddba8>"
      ]
     },
     "execution_count": 4,
     "metadata": {},
     "output_type": "execute_result"
    },
    {
     "data": {
      "image/png": "[encoded data removed]",
      "text/plain": [
       "<matplotlib.figure.Figure at 0x6f462b0>"
      ]
     },
     "metadata": {},
     "output_type": "display_data"
    }
   ],
   "source": [
    "import os,sys\n",
    "path = os.path.abspath(os.path.join(os.path.dirname('any'), '..'))\n",
    "if not path in sys.path:\n",
    "    sys.path.insert(1, path)\n",
    "del path\n",
    "\n",
    "import kemerelab as klab\n",
    "from kemerelab.data_visualization import plot as kplot\n",
    "from kemerelab.hmm import *\n",
    "fig, ax = plt.subplots(1, 1)\n",
    "kplot.raster(ax, spikes)\n",
    "\n",
    "#from imp import reload\n",
    "#reload(klab)"
   ]
  },
  {
   "cell_type": "markdown",
   "metadata": {},
   "source": [
    "### Using the **neo** data format:"
   ]
  },
  {
   "cell_type": "code",
   "execution_count": 34,
   "metadata": {
    "collapsed": false
   },
   "outputs": [],
   "source": [
    "import neo\n",
    "st = neo.SpikeTrain(spikes[1], units='sec', t_stop=250.0, unit=1)\n",
    "#print(st)\n",
    "#print(st.annotations)\n",
    "\n",
    "u = neo.Unit()\n",
    "u.spiketrains = st\n"
   ]
  },
  {
   "cell_type": "code",
   "execution_count": 39,
   "metadata": {
    "collapsed": false
   },
   "outputs": [
    {
     "ename": "TypeError",
     "evalue": "expected bytes, bytearray or buffer compatible object",
     "output_type": "error",
     "traceback": [
      "\u001b[1;31m---------------------------------------------------------------------------\u001b[0m",
      "\u001b[1;31mTypeError\u001b[0m                                 Traceback (most recent call last)",
      "\u001b[1;32m<ipython-input-39-d8a92008565d>\u001b[0m in \u001b[0;36m<module>\u001b[1;34m()\u001b[0m\n\u001b[0;32m     15\u001b[0m \u001b[1;33m\u001b[0m\u001b[0m\n\u001b[0;32m     16\u001b[0m \u001b[0mreader\u001b[0m \u001b[1;33m=\u001b[0m \u001b[0mneo\u001b[0m\u001b[1;33m.\u001b[0m\u001b[0mio\u001b[0m\u001b[1;33m.\u001b[0m\u001b[0mNeuroExplorerIO\u001b[0m\u001b[1;33m(\u001b[0m\u001b[0mfilename\u001b[0m\u001b[1;33m=\u001b[0m\u001b[1;34m'File_neuroexplorer_2.nex'\u001b[0m\u001b[1;33m)\u001b[0m\u001b[1;33m\u001b[0m\u001b[0m\n\u001b[1;32m---> 17\u001b[1;33m \u001b[0mbl\u001b[0m \u001b[1;33m=\u001b[0m \u001b[0mreader\u001b[0m\u001b[1;33m.\u001b[0m\u001b[0mread\u001b[0m\u001b[1;33m(\u001b[0m\u001b[0mcascade\u001b[0m\u001b[1;33m=\u001b[0m\u001b[1;32mTrue\u001b[0m\u001b[1;33m,\u001b[0m \u001b[0mlazy\u001b[0m\u001b[1;33m=\u001b[0m\u001b[1;32mFalse\u001b[0m\u001b[1;33m)\u001b[0m\u001b[1;33m[\u001b[0m\u001b[1;36m0\u001b[0m\u001b[1;33m]\u001b[0m\u001b[1;33m\u001b[0m\u001b[0m\n\u001b[0m\u001b[0;32m     18\u001b[0m \u001b[1;32mfor\u001b[0m \u001b[0mseg\u001b[0m \u001b[1;32min\u001b[0m \u001b[0mbl\u001b[0m\u001b[1;33m.\u001b[0m\u001b[0msegments\u001b[0m\u001b[1;33m:\u001b[0m\u001b[1;33m\u001b[0m\u001b[0m\n\u001b[0;32m     19\u001b[0m     \u001b[0mfig\u001b[0m \u001b[1;33m=\u001b[0m \u001b[0mpyplot\u001b[0m\u001b[1;33m.\u001b[0m\u001b[0mfigure\u001b[0m\u001b[1;33m(\u001b[0m\u001b[1;33m)\u001b[0m\u001b[1;33m\u001b[0m\u001b[0m\n",
      "\u001b[1;32mC:\\Anaconda3\\lib\\site-packages\\neo\\io\\baseio.py\u001b[0m in \u001b[0;36mread\u001b[1;34m(self, lazy, cascade, **kargs)\u001b[0m\n\u001b[0;32m    107\u001b[0m             \u001b[1;32mif\u001b[0m \u001b[1;32mnot\u001b[0m \u001b[0mcascade\u001b[0m\u001b[1;33m:\u001b[0m\u001b[1;33m\u001b[0m\u001b[0m\n\u001b[0;32m    108\u001b[0m                 \u001b[1;32mreturn\u001b[0m \u001b[0mbl\u001b[0m\u001b[1;33m\u001b[0m\u001b[0m\n\u001b[1;32m--> 109\u001b[1;33m             \u001b[0mseg\u001b[0m \u001b[1;33m=\u001b[0m \u001b[0mself\u001b[0m\u001b[1;33m.\u001b[0m\u001b[0mread_segment\u001b[0m\u001b[1;33m(\u001b[0m\u001b[0mlazy\u001b[0m\u001b[1;33m=\u001b[0m\u001b[0mlazy\u001b[0m\u001b[1;33m,\u001b[0m \u001b[0mcascade\u001b[0m\u001b[1;33m=\u001b[0m\u001b[0mcascade\u001b[0m\u001b[1;33m,\u001b[0m  \u001b[1;33m**\u001b[0m\u001b[0mkargs\u001b[0m\u001b[1;33m)\u001b[0m\u001b[1;33m\u001b[0m\u001b[0m\n\u001b[0m\u001b[0;32m    110\u001b[0m             \u001b[0mbl\u001b[0m\u001b[1;33m.\u001b[0m\u001b[0msegments\u001b[0m\u001b[1;33m.\u001b[0m\u001b[0mappend\u001b[0m\u001b[1;33m(\u001b[0m\u001b[0mseg\u001b[0m\u001b[1;33m)\u001b[0m\u001b[1;33m\u001b[0m\u001b[0m\n\u001b[0;32m    111\u001b[0m             \u001b[0mcreate_many_to_one_relationship\u001b[0m\u001b[1;33m(\u001b[0m\u001b[0mbl\u001b[0m\u001b[1;33m)\u001b[0m\u001b[1;33m\u001b[0m\u001b[0m\n",
      "\u001b[1;32mC:\\Anaconda3\\lib\\site-packages\\neo\\io\\neuroexplorerio.py\u001b[0m in \u001b[0;36mread_segment\u001b[1;34m(self, lazy, cascade)\u001b[0m\n\u001b[0;32m    101\u001b[0m         \u001b[1;32mfor\u001b[0m \u001b[0mi\u001b[0m \u001b[1;32min\u001b[0m \u001b[0mrange\u001b[0m\u001b[1;33m(\u001b[0m\u001b[0mglobalHeader\u001b[0m\u001b[1;33m[\u001b[0m\u001b[1;34m'nvar'\u001b[0m\u001b[1;33m]\u001b[0m\u001b[1;33m)\u001b[0m\u001b[1;33m:\u001b[0m\u001b[1;33m\u001b[0m\u001b[0m\n\u001b[0;32m    102\u001b[0m             \u001b[0mentityHeader\u001b[0m \u001b[1;33m=\u001b[0m \u001b[0mHeaderReader\u001b[0m\u001b[1;33m(\u001b[0m\u001b[0mfid\u001b[0m \u001b[1;33m,\u001b[0m \u001b[0mEntityHeader\u001b[0m \u001b[1;33m)\u001b[0m\u001b[1;33m.\u001b[0m\u001b[0mread_f\u001b[0m\u001b[1;33m(\u001b[0m\u001b[0moffset\u001b[0m \u001b[1;33m=\u001b[0m \u001b[0moffset\u001b[0m\u001b[1;33m+\u001b[0m\u001b[0mi\u001b[0m\u001b[1;33m*\u001b[0m\u001b[1;36m208\u001b[0m\u001b[1;33m)\u001b[0m\u001b[1;33m\u001b[0m\u001b[0m\n\u001b[1;32m--> 103\u001b[1;33m             \u001b[0mentityHeader\u001b[0m\u001b[1;33m[\u001b[0m\u001b[1;34m'name'\u001b[0m\u001b[1;33m]\u001b[0m \u001b[1;33m=\u001b[0m \u001b[0mentityHeader\u001b[0m\u001b[1;33m[\u001b[0m\u001b[1;34m'name'\u001b[0m\u001b[1;33m]\u001b[0m\u001b[1;33m.\u001b[0m\u001b[0mreplace\u001b[0m\u001b[1;33m(\u001b[0m\u001b[1;34m'\\x00'\u001b[0m\u001b[1;33m,\u001b[0m\u001b[1;34m''\u001b[0m\u001b[1;33m)\u001b[0m\u001b[1;33m\u001b[0m\u001b[0m\n\u001b[0m\u001b[0;32m    104\u001b[0m \u001b[1;33m\u001b[0m\u001b[0m\n\u001b[0;32m    105\u001b[0m             \u001b[1;31m#print 'i',i, entityHeader['type']\u001b[0m\u001b[1;33m\u001b[0m\u001b[1;33m\u001b[0m\u001b[0m\n",
      "\u001b[1;31mTypeError\u001b[0m: expected bytes, bytearray or buffer compatible object"
     ]
    }
   ],
   "source": [
    "import urllib.request\n",
    "\n",
    "import numpy as np\n",
    "import quantities as pq\n",
    "from matplotlib import pyplot\n",
    "%matplotlib inline\n",
    "\n",
    "import neo\n",
    "\n",
    "url = 'https://portal.g-node.org/neo/'\n",
    "distantfile = url + 'neuroexplorer/File_neuroexplorer_2.nex'\n",
    "localfile = 'File_neuroexplorer_2.nex'\n",
    "urllib.request.urlretrieve(distantfile, localfile)\n",
    "\n",
    "\n",
    "reader = neo.io.NeuroExplorerIO(filename='File_neuroexplorer_2.nex')\n",
    "bl = reader.read(cascade=True, lazy=False)[0]\n",
    "for seg in bl.segments:\n",
    "    fig = pyplot.figure()\n",
    "    ax1 = fig.add_subplot(2, 1, 1)\n",
    "    ax2 = fig.add_subplot(2, 1, 2)\n",
    "    ax1.set_title(seg.file_origin)\n",
    "    mint = 0 * pq.s\n",
    "    maxt = np.inf * pq.s\n",
    "    for i, asig in enumerate(seg.analogsignals):\n",
    "        times = asig.times.rescale('s').magnitude\n",
    "        asig = asig.rescale('mV').magnitude\n",
    "        ax1.plot(times, asig)\n",
    "\n",
    "    trains = [st.rescale('s').magnitude for st in seg.spiketrains]\n",
    "    colors = pyplot.cm.jet(np.linspace(0, 1, len(seg.spiketrains)))\n",
    "    ax2.eventplot(trains, colors=colors)\n",
    "\n",
    "pyplot.show()"
   ]
  },
  {
   "cell_type": "code",
   "execution_count": 14,
   "metadata": {
    "collapsed": false
   },
   "outputs": [
    {
     "data": {
      "text/html": [
       "<style>\n",
       "div.warn {    \n",
       "    background-color: #fcf2f2;\n",
       "    border-color: #dFb5b4;\n",
       "    border-left: 5px solid #dfb5b4;\n",
       "    padding: 0.5em;\n",
       "    }\n",
       " </style>\n"
      ],
      "text/plain": [
       "<IPython.core.display.HTML object>"
      ]
     },
     "execution_count": 14,
     "metadata": {},
     "output_type": "execute_result"
    }
   ],
   "source": [
    "from IPython.core.display import HTML\n",
    "def css_styling():\n",
    "    styles = open(\"../Styles/custom.css\", \"r\").read()\n",
    "    return HTML(styles)\n",
    "css_styling()"
   ]
  }
 ],
 "metadata": {
  "kernelspec": {
   "display_name": "Python 3",
   "language": "python",
   "name": "python3"
  },
  "language_info": {
   "codemirror_mode": {
    "name": "ipython",
    "version": 3
   },
   "file_extension": ".py",
   "mimetype": "text/x-python",
   "name": "python",
   "nbconvert_exporter": "python",
   "pygments_lexer": "ipython3",
   "version": "3.4.1"
  }
 },
 "nbformat": 4,
 "nbformat_minor": 0
}
